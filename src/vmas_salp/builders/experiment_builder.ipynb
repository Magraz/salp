{
 "cells": [
  {
   "cell_type": "code",
   "execution_count": 1,
   "metadata": {},
   "outputs": [],
   "source": [
    "import yaml\n",
    "from pathlib import Path\n",
    "import importlib\n",
    "\n",
    "builders_path = Path(globals()['_dh'][0])\n",
    "\n",
    "with open(builders_path / \"builder.yaml\", \"r\") as config:\n",
    "        config_dict = yaml.safe_load(config)\n",
    "        builder_module = importlib.import_module(config_dict[\"builder_type\"])\n",
    "\n",
    "experiment_dicts = getattr(builder_module, \"EXP_DICTS\")\n",
    "batch_name = getattr(builder_module, \"BATCH\")\n",
    "\n",
    "exp_path = Path(globals()['_dh'][0]).parent / \"experiments\" / \"yamls\"\n",
    "\n",
    "for exp_dict in experiment_dicts:\n",
    "\n",
    "    with open(exp_path / batch_name / f\"{exp_dict[\"name\"]}.yaml\", \"w\") as file:\n",
    "\n",
    "        yaml.dump(exp_dict[\"config\"], file)\n"
   ]
  }
 ],
 "metadata": {
  "kernelspec": {
   "display_name": "vmas_rovers",
   "language": "python",
   "name": "python3"
  },
  "language_info": {
   "codemirror_mode": {
    "name": "ipython",
    "version": 3
   },
   "file_extension": ".py",
   "mimetype": "text/x-python",
   "name": "python",
   "nbconvert_exporter": "python",
   "pygments_lexer": "ipython3",
   "version": "3.12.3"
  }
 },
 "nbformat": 4,
 "nbformat_minor": 2
}
